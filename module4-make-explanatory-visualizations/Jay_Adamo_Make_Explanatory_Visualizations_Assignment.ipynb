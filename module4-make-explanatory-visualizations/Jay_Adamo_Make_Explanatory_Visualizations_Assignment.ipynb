{
  "nbformat": 4,
  "nbformat_minor": 0,
  "metadata": {
    "colab": {
      "name": "Jay Adamo - Make_Explanatory_Visualizations_Assignment.ipynb",
      "provenance": [],
      "collapsed_sections": [],
      "include_colab_link": true
    },
    "language_info": {
      "codemirror_mode": {
        "name": "ipython",
        "version": 3
      },
      "file_extension": ".py",
      "mimetype": "text/x-python",
      "name": "python",
      "nbconvert_exporter": "python",
      "pygments_lexer": "ipython3",
      "version": "3.7.1"
    },
    "kernelspec": {
      "display_name": "Python 3",
      "language": "python",
      "name": "python3"
    }
  },
  "cells": [
    {
      "cell_type": "markdown",
      "metadata": {
        "id": "view-in-github",
        "colab_type": "text"
      },
      "source": [
        "<a href=\"https://colab.research.google.com/github/JraHike76/DS-Unit-1-Sprint-1-Data-Wrangling-and-Storytelling/blob/master/module4-make-explanatory-visualizations/Jay_Adamo_Make_Explanatory_Visualizations_Assignment.ipynb\" target=\"_parent\"><img src=\"https://colab.research.google.com/assets/colab-badge.svg\" alt=\"Open In Colab\"/></a>"
      ]
    },
    {
      "cell_type": "markdown",
      "metadata": {
        "colab_type": "text",
        "id": "NMEswXWh9mqw"
      },
      "source": [
        "Lambda School Data Science\n",
        "\n",
        "*Unit 1, Sprint 1, Module 4*\n",
        "\n",
        "---\n",
        "\n",
        "# ASSIGNMENT\n",
        "\n",
        "### 1) Replicate the lesson code. I recommend that you [do not copy-paste](https://docs.google.com/document/d/1ubOw9B3Hfip27hF2ZFnW3a3z9xAgrUDRReOEo-FHCVs/edit).\n",
        "\n",
        "Get caught up to where we got our example in class and then try and take things further. How close to \"pixel perfect\" can you make the lecture graph?\n",
        "\n",
        "Once you have something that you're proud of, share your graph in the cohort channel and move on to the second exercise.\n",
        "\n",
        "### 2) Reproduce another example from [FiveThityEight's shared data repository](https://data.fivethirtyeight.com/).\n",
        "\n",
        "**WARNING**: There are a lot of very custom graphs and tables at the above link. I **highly** recommend not trying to reproduce any that look like a table of values or something really different from the graph types that we are already familiar with. Search through the posts until you find a graph type that you are more or less familiar with: histogram, bar chart, stacked bar chart, line chart, [seaborn relplot](https://seaborn.pydata.org/generated/seaborn.relplot.html), etc. Recreating some of the graphics that 538 uses would be a lot easier in Adobe photoshop/illustrator than with matplotlib. \n",
        "\n",
        "- If you put in some time to find a graph that looks \"easy\" to replicate you'll probably find that it's not as easy as you thought. \n",
        "\n",
        "- If you start with a graph that looks hard to replicate you'll probably run up against a brick wall and be disappointed with your afternoon.\n",
        "\n",
        "\n",
        "\n",
        "\n",
        "\n",
        "\n",
        "\n",
        "\n",
        "\n",
        "\n"
      ]
    },
    {
      "cell_type": "code",
      "metadata": {
        "id": "BaDtmWM9vZ4K",
        "colab_type": "code",
        "colab": {}
      },
      "source": [
        "%matplotlib inline\n",
        "import matplotlib.pyplot as plt\n",
        "import numpy as np\n",
        "import pandas as pd\n",
        "\n",
        "\n",
        "# plt.style.use('fivethirtyeight')\n",
        "\n",
        "fake = pd.Series([38, 3, 2, 1, 2, 4, 6, 5, 5, 33], \n",
        "                 index=range(1,11))"
      ],
      "execution_count": 0,
      "outputs": []
    },
    {
      "cell_type": "code",
      "metadata": {
        "id": "7SY1ZHawyZvz",
        "colab_type": "code",
        "outputId": "503449a0-cb98-48ad-9b3b-4e045aeb67be",
        "colab": {
          "base_uri": "https://localhost:8080/",
          "height": 355
        }
      },
      "source": [
        "# Your Work Here\n",
        "\n",
        "from IPython.display import display, Image\n",
        "\n",
        "url = 'https://fivethirtyeight.com/wp-content/uploads/2017/09/mehtahickey-inconvenient-0830-1.png'\n",
        "example = Image(url=url, width=400)\n",
        "\n",
        "display(example)"
      ],
      "execution_count": 3,
      "outputs": [
        {
          "output_type": "display_data",
          "data": {
            "text/html": [
              "<img src=\"https://fivethirtyeight.com/wp-content/uploads/2017/09/mehtahickey-inconvenient-0830-1.png\" width=\"400\"/>"
            ],
            "text/plain": [
              "<IPython.core.display.Image object>"
            ]
          },
          "metadata": {
            "tags": []
          }
        }
      ]
    },
    {
      "cell_type": "code",
      "metadata": {
        "id": "c1wiXdLbv7-g",
        "colab_type": "code",
        "outputId": "721c3eda-2a27-4873-f8b6-cf9a5e06971a",
        "colab": {
          "base_uri": "https://localhost:8080/",
          "height": 328
        }
      },
      "source": [
        "plt.style.use('fivethirtyeight')\n",
        "fig, ax = plt.subplots()\n",
        "# Turn on the Grid: Change the stylesheet that we're working with\n",
        "# White figure background\n",
        "fig.patch.set_facecolor('white')\n",
        "# White axes background\n",
        "ax.set_facecolor('white')\n",
        "# put bars on the chart\n",
        "ax.bar(x=range(1,11,1), height=fake, color='#ED713A', width=.9)\n",
        "# Add Title\n",
        "ax.set_title(\"'An Inconvenient Sequel: Truth To Power' is divisive\", fontsize=12, fontweight='bold', x=.33, y=1.08)\n",
        "# Add subtitle\n",
        "ax.text(s='IMDb ratings for the film as of Aug. 29', x= -1.3, y=42, fontsize=11)\n",
        "# set x and y axis labels\n",
        "ax.set_xlabel('Rating', fontsize=9, fontweight='bold')\n",
        "ax.set_ylabel('Percent of total votes', fontsize=9, fontweight='bold')\n",
        "# x axis tick marks and tick labels\n",
        "ax.set_xticks(range(1,11,1))\n",
        "ax.set_xticklabels(range(1,11,1))\n",
        "# y axis tick marks and tick labels\n",
        "ax.set_yticks(range(0,41,10))\n",
        "ax.set_yticklabels(['0', '10', '20', '30', '40%'])\n",
        "\n",
        "#changing ticks: color and size\n",
        "ax.tick_params(axis='y', colors='C4', labelsize = 'small')\n",
        "ax.tick_params(axis='x', colors='C4', labelsize = 'small')\n",
        "\n",
        "# Turn off some of the spines\n",
        "ax.spines['left'].set_visible(False)\n",
        "ax.spines['right'].set_visible(False)\n",
        "ax.spines['top'].set_visible(False)\n",
        "\n",
        "plt.show()"
      ],
      "execution_count": 4,
      "outputs": [
        {
          "output_type": "display_data",
          "data": {
            "image/png": "[encoded data removed]",
            "text/plain": [
              "<Figure size 432x288 with 1 Axes>"
            ]
          },
          "metadata": {
            "tags": []
          }
        }
      ]
    },
    {
      "cell_type": "code",
      "metadata": {
        "id": "yfeiTn0jv75r",
        "colab_type": "code",
        "outputId": "a1d2dafd-5c11-4c01-8021-b49758753a0d",
        "colab": {
          "base_uri": "https://localhost:8080/",
          "height": 355
        }
      },
      "source": [
        "display(example)"
      ],
      "execution_count": 5,
      "outputs": [
        {
          "output_type": "display_data",
          "data": {
            "text/html": [
              "<img src=\"https://fivethirtyeight.com/wp-content/uploads/2017/09/mehtahickey-inconvenient-0830-1.png\" width=\"400\"/>"
            ],
            "text/plain": [
              "<IPython.core.display.Image object>"
            ]
          },
          "metadata": {
            "tags": []
          }
        }
      ]
    },
    {
      "cell_type": "code",
      "metadata": {
        "id": "_dZ9_-sov70E",
        "colab_type": "code",
        "colab": {}
      },
      "source": [
        "#I hope that is close enough!"
      ],
      "execution_count": 0,
      "outputs": []
    },
    {
      "cell_type": "markdown",
      "metadata": {
        "id": "oBAIMzZSHTHb",
        "colab_type": "text"
      },
      "source": [
        "2) Reproduce another example from FiveThityEight's shared data repository.\n",
        "\n",
        "If you put in some time to find a graph that looks \"easy\" to replicate you'll probably find that it's not as easy as you thought.\n",
        "\n",
        "If you start with a graph that looks hard to replicate you'll probably run up against a brick wall and be disappointed with your afternoon.\n",
        "\n"
      ]
    },
    {
      "cell_type": "code",
      "metadata": {
        "id": "C6JlQUh1J3fJ",
        "colab_type": "code",
        "outputId": "85a0e0fa-3861-4303-b24e-07a0c15e0bca",
        "colab": {
          "base_uri": "https://localhost:8080/",
          "height": 295
        }
      },
      "source": [
        "from IPython.display import display, Image\n",
        "\n",
        "url = 'https://fivethirtyeight.com/wp-content/uploads/2015/04/barry-jester-datalab-boomersdruguse-actual.png?w=575'\n",
        "drugs = Image(url=url, width=400)\n",
        "\n",
        "display(drugs)"
      ],
      "execution_count": 7,
      "outputs": [
        {
          "output_type": "display_data",
          "data": {
            "text/html": [
              "<img src=\"https://fivethirtyeight.com/wp-content/uploads/2015/04/barry-jester-datalab-boomersdruguse-actual.png?w=575\" width=\"400\"/>"
            ],
            "text/plain": [
              "<IPython.core.display.Image object>"
            ]
          },
          "metadata": {
            "tags": []
          }
        }
      ]
    },
    {
      "cell_type": "code",
      "metadata": {
        "id": "dlwKrNqvMYYH",
        "colab_type": "code",
        "colab": {}
      },
      "source": [
        "%matplotlib inline\n",
        "import matplotlib.pyplot as plt\n",
        "import numpy as np\n",
        "import pandas as pd"
      ],
      "execution_count": 0,
      "outputs": []
    },
    {
      "cell_type": "code",
      "metadata": {
        "id": "cFchcVzaOsuO",
        "colab_type": "code",
        "outputId": "0c536676-c4d4-4d9a-d8c3-211f19996005",
        "colab": {
          "base_uri": "https://localhost:8080/",
          "height": 732
        }
      },
      "source": [
        "#reading in url\n",
        "\n",
        "df = pd.read_csv('https://raw.githubusercontent.com/fivethirtyeight/data/master/drug-use-by-age/drug-use-by-age.csv')\n",
        "\n",
        "df"
      ],
      "execution_count": 9,
      "outputs": [
        {
          "output_type": "execute_result",
          "data": {
            "text/html": [
              "<div>\n",
              "<style scoped>\n",
              "    .dataframe tbody tr th:only-of-type {\n",
              "        vertical-align: middle;\n",
              "    }\n",
              "\n",
              "    .dataframe tbody tr th {\n",
              "        vertical-align: top;\n",
              "    }\n",
              "\n",
              "    .dataframe thead th {\n",
              "        text-align: right;\n",
              "    }\n",
              "</style>\n",
              "<table border=\"1\" class=\"dataframe\">\n",
              "  <thead>\n",
              "    <tr style=\"text-align: right;\">\n",
              "      <th></th>\n",
              "      <th>age</th>\n",
              "      <th>n</th>\n",
              "      <th>alcohol-use</th>\n",
              "      <th>alcohol-frequency</th>\n",
              "      <th>marijuana-use</th>\n",
              "      <th>marijuana-frequency</th>\n",
              "      <th>cocaine-use</th>\n",
              "      <th>cocaine-frequency</th>\n",
              "      <th>crack-use</th>\n",
              "      <th>crack-frequency</th>\n",
              "      <th>heroin-use</th>\n",
              "      <th>heroin-frequency</th>\n",
              "      <th>hallucinogen-use</th>\n",
              "      <th>hallucinogen-frequency</th>\n",
              "      <th>inhalant-use</th>\n",
              "      <th>inhalant-frequency</th>\n",
              "      <th>pain-releiver-use</th>\n",
              "      <th>pain-releiver-frequency</th>\n",
              "      <th>oxycontin-use</th>\n",
              "      <th>oxycontin-frequency</th>\n",
              "      <th>tranquilizer-use</th>\n",
              "      <th>tranquilizer-frequency</th>\n",
              "      <th>stimulant-use</th>\n",
              "      <th>stimulant-frequency</th>\n",
              "      <th>meth-use</th>\n",
              "      <th>meth-frequency</th>\n",
              "      <th>sedative-use</th>\n",
              "      <th>sedative-frequency</th>\n",
              "    </tr>\n",
              "  </thead>\n",
              "  <tbody>\n",
              "    <tr>\n",
              "      <th>0</th>\n",
              "      <td>12</td>\n",
              "      <td>2798</td>\n",
              "      <td>3.9</td>\n",
              "      <td>3.0</td>\n",
              "      <td>1.1</td>\n",
              "      <td>4.0</td>\n",
              "      <td>0.1</td>\n",
              "      <td>5.0</td>\n",
              "      <td>0.0</td>\n",
              "      <td>-</td>\n",
              "      <td>0.1</td>\n",
              "      <td>35.5</td>\n",
              "      <td>0.2</td>\n",
              "      <td>52.0</td>\n",
              "      <td>1.6</td>\n",
              "      <td>19.0</td>\n",
              "      <td>2.0</td>\n",
              "      <td>36.0</td>\n",
              "      <td>0.1</td>\n",
              "      <td>24.5</td>\n",
              "      <td>0.2</td>\n",
              "      <td>52.0</td>\n",
              "      <td>0.2</td>\n",
              "      <td>2.0</td>\n",
              "      <td>0.0</td>\n",
              "      <td>-</td>\n",
              "      <td>0.2</td>\n",
              "      <td>13.0</td>\n",
              "    </tr>\n",
              "    <tr>\n",
              "      <th>1</th>\n",
              "      <td>13</td>\n",
              "      <td>2757</td>\n",
              "      <td>8.5</td>\n",
              "      <td>6.0</td>\n",
              "      <td>3.4</td>\n",
              "      <td>15.0</td>\n",
              "      <td>0.1</td>\n",
              "      <td>1.0</td>\n",
              "      <td>0.0</td>\n",
              "      <td>3.0</td>\n",
              "      <td>0.0</td>\n",
              "      <td>-</td>\n",
              "      <td>0.6</td>\n",
              "      <td>6.0</td>\n",
              "      <td>2.5</td>\n",
              "      <td>12.0</td>\n",
              "      <td>2.4</td>\n",
              "      <td>14.0</td>\n",
              "      <td>0.1</td>\n",
              "      <td>41.0</td>\n",
              "      <td>0.3</td>\n",
              "      <td>25.5</td>\n",
              "      <td>0.3</td>\n",
              "      <td>4.0</td>\n",
              "      <td>0.1</td>\n",
              "      <td>5.0</td>\n",
              "      <td>0.1</td>\n",
              "      <td>19.0</td>\n",
              "    </tr>\n",
              "    <tr>\n",
              "      <th>2</th>\n",
              "      <td>14</td>\n",
              "      <td>2792</td>\n",
              "      <td>18.1</td>\n",
              "      <td>5.0</td>\n",
              "      <td>8.7</td>\n",
              "      <td>24.0</td>\n",
              "      <td>0.1</td>\n",
              "      <td>5.5</td>\n",
              "      <td>0.0</td>\n",
              "      <td>-</td>\n",
              "      <td>0.1</td>\n",
              "      <td>2.0</td>\n",
              "      <td>1.6</td>\n",
              "      <td>3.0</td>\n",
              "      <td>2.6</td>\n",
              "      <td>5.0</td>\n",
              "      <td>3.9</td>\n",
              "      <td>12.0</td>\n",
              "      <td>0.4</td>\n",
              "      <td>4.5</td>\n",
              "      <td>0.9</td>\n",
              "      <td>5.0</td>\n",
              "      <td>0.8</td>\n",
              "      <td>12.0</td>\n",
              "      <td>0.1</td>\n",
              "      <td>24.0</td>\n",
              "      <td>0.2</td>\n",
              "      <td>16.5</td>\n",
              "    </tr>\n",
              "    <tr>\n",
              "      <th>3</th>\n",
              "      <td>15</td>\n",
              "      <td>2956</td>\n",
              "      <td>29.2</td>\n",
              "      <td>6.0</td>\n",
              "      <td>14.5</td>\n",
              "      <td>25.0</td>\n",
              "      <td>0.5</td>\n",
              "      <td>4.0</td>\n",
              "      <td>0.1</td>\n",
              "      <td>9.5</td>\n",
              "      <td>0.2</td>\n",
              "      <td>1.0</td>\n",
              "      <td>2.1</td>\n",
              "      <td>4.0</td>\n",
              "      <td>2.5</td>\n",
              "      <td>5.5</td>\n",
              "      <td>5.5</td>\n",
              "      <td>10.0</td>\n",
              "      <td>0.8</td>\n",
              "      <td>3.0</td>\n",
              "      <td>2.0</td>\n",
              "      <td>4.5</td>\n",
              "      <td>1.5</td>\n",
              "      <td>6.0</td>\n",
              "      <td>0.3</td>\n",
              "      <td>10.5</td>\n",
              "      <td>0.4</td>\n",
              "      <td>30.0</td>\n",
              "    </tr>\n",
              "    <tr>\n",
              "      <th>4</th>\n",
              "      <td>16</td>\n",
              "      <td>3058</td>\n",
              "      <td>40.1</td>\n",
              "      <td>10.0</td>\n",
              "      <td>22.5</td>\n",
              "      <td>30.0</td>\n",
              "      <td>1.0</td>\n",
              "      <td>7.0</td>\n",
              "      <td>0.0</td>\n",
              "      <td>1.0</td>\n",
              "      <td>0.1</td>\n",
              "      <td>66.5</td>\n",
              "      <td>3.4</td>\n",
              "      <td>3.0</td>\n",
              "      <td>3.0</td>\n",
              "      <td>3.0</td>\n",
              "      <td>6.2</td>\n",
              "      <td>7.0</td>\n",
              "      <td>1.1</td>\n",
              "      <td>4.0</td>\n",
              "      <td>2.4</td>\n",
              "      <td>11.0</td>\n",
              "      <td>1.8</td>\n",
              "      <td>9.5</td>\n",
              "      <td>0.3</td>\n",
              "      <td>36.0</td>\n",
              "      <td>0.2</td>\n",
              "      <td>3.0</td>\n",
              "    </tr>\n",
              "    <tr>\n",
              "      <th>5</th>\n",
              "      <td>17</td>\n",
              "      <td>3038</td>\n",
              "      <td>49.3</td>\n",
              "      <td>13.0</td>\n",
              "      <td>28.0</td>\n",
              "      <td>36.0</td>\n",
              "      <td>2.0</td>\n",
              "      <td>5.0</td>\n",
              "      <td>0.1</td>\n",
              "      <td>21.0</td>\n",
              "      <td>0.1</td>\n",
              "      <td>64.0</td>\n",
              "      <td>4.8</td>\n",
              "      <td>3.0</td>\n",
              "      <td>2.0</td>\n",
              "      <td>4.0</td>\n",
              "      <td>8.5</td>\n",
              "      <td>9.0</td>\n",
              "      <td>1.4</td>\n",
              "      <td>6.0</td>\n",
              "      <td>3.5</td>\n",
              "      <td>7.0</td>\n",
              "      <td>2.8</td>\n",
              "      <td>9.0</td>\n",
              "      <td>0.6</td>\n",
              "      <td>48.0</td>\n",
              "      <td>0.5</td>\n",
              "      <td>6.5</td>\n",
              "    </tr>\n",
              "    <tr>\n",
              "      <th>6</th>\n",
              "      <td>18</td>\n",
              "      <td>2469</td>\n",
              "      <td>58.7</td>\n",
              "      <td>24.0</td>\n",
              "      <td>33.7</td>\n",
              "      <td>52.0</td>\n",
              "      <td>3.2</td>\n",
              "      <td>5.0</td>\n",
              "      <td>0.4</td>\n",
              "      <td>10.0</td>\n",
              "      <td>0.4</td>\n",
              "      <td>46.0</td>\n",
              "      <td>7.0</td>\n",
              "      <td>4.0</td>\n",
              "      <td>1.8</td>\n",
              "      <td>4.0</td>\n",
              "      <td>9.2</td>\n",
              "      <td>12.0</td>\n",
              "      <td>1.7</td>\n",
              "      <td>7.0</td>\n",
              "      <td>4.9</td>\n",
              "      <td>12.0</td>\n",
              "      <td>3.0</td>\n",
              "      <td>8.0</td>\n",
              "      <td>0.5</td>\n",
              "      <td>12.0</td>\n",
              "      <td>0.4</td>\n",
              "      <td>10.0</td>\n",
              "    </tr>\n",
              "    <tr>\n",
              "      <th>7</th>\n",
              "      <td>19</td>\n",
              "      <td>2223</td>\n",
              "      <td>64.6</td>\n",
              "      <td>36.0</td>\n",
              "      <td>33.4</td>\n",
              "      <td>60.0</td>\n",
              "      <td>4.1</td>\n",
              "      <td>5.5</td>\n",
              "      <td>0.5</td>\n",
              "      <td>2.0</td>\n",
              "      <td>0.5</td>\n",
              "      <td>180.0</td>\n",
              "      <td>8.6</td>\n",
              "      <td>3.0</td>\n",
              "      <td>1.4</td>\n",
              "      <td>3.0</td>\n",
              "      <td>9.4</td>\n",
              "      <td>12.0</td>\n",
              "      <td>1.5</td>\n",
              "      <td>7.5</td>\n",
              "      <td>4.2</td>\n",
              "      <td>4.5</td>\n",
              "      <td>3.3</td>\n",
              "      <td>6.0</td>\n",
              "      <td>0.4</td>\n",
              "      <td>105.0</td>\n",
              "      <td>0.3</td>\n",
              "      <td>6.0</td>\n",
              "    </tr>\n",
              "    <tr>\n",
              "      <th>8</th>\n",
              "      <td>20</td>\n",
              "      <td>2271</td>\n",
              "      <td>69.7</td>\n",
              "      <td>48.0</td>\n",
              "      <td>34.0</td>\n",
              "      <td>60.0</td>\n",
              "      <td>4.9</td>\n",
              "      <td>8.0</td>\n",
              "      <td>0.6</td>\n",
              "      <td>5.0</td>\n",
              "      <td>0.9</td>\n",
              "      <td>45.0</td>\n",
              "      <td>7.4</td>\n",
              "      <td>2.0</td>\n",
              "      <td>1.5</td>\n",
              "      <td>4.0</td>\n",
              "      <td>10.0</td>\n",
              "      <td>10.0</td>\n",
              "      <td>1.7</td>\n",
              "      <td>12.0</td>\n",
              "      <td>5.4</td>\n",
              "      <td>10.0</td>\n",
              "      <td>4.0</td>\n",
              "      <td>12.0</td>\n",
              "      <td>0.9</td>\n",
              "      <td>12.0</td>\n",
              "      <td>0.5</td>\n",
              "      <td>4.0</td>\n",
              "    </tr>\n",
              "    <tr>\n",
              "      <th>9</th>\n",
              "      <td>21</td>\n",
              "      <td>2354</td>\n",
              "      <td>83.2</td>\n",
              "      <td>52.0</td>\n",
              "      <td>33.0</td>\n",
              "      <td>52.0</td>\n",
              "      <td>4.8</td>\n",
              "      <td>5.0</td>\n",
              "      <td>0.5</td>\n",
              "      <td>17.0</td>\n",
              "      <td>0.6</td>\n",
              "      <td>30.0</td>\n",
              "      <td>6.3</td>\n",
              "      <td>4.0</td>\n",
              "      <td>1.4</td>\n",
              "      <td>2.0</td>\n",
              "      <td>9.0</td>\n",
              "      <td>15.0</td>\n",
              "      <td>1.3</td>\n",
              "      <td>13.5</td>\n",
              "      <td>3.9</td>\n",
              "      <td>7.0</td>\n",
              "      <td>4.1</td>\n",
              "      <td>10.0</td>\n",
              "      <td>0.6</td>\n",
              "      <td>2.0</td>\n",
              "      <td>0.3</td>\n",
              "      <td>9.0</td>\n",
              "    </tr>\n",
              "    <tr>\n",
              "      <th>10</th>\n",
              "      <td>22-23</td>\n",
              "      <td>4707</td>\n",
              "      <td>84.2</td>\n",
              "      <td>52.0</td>\n",
              "      <td>28.4</td>\n",
              "      <td>52.0</td>\n",
              "      <td>4.5</td>\n",
              "      <td>5.0</td>\n",
              "      <td>0.5</td>\n",
              "      <td>5.0</td>\n",
              "      <td>1.1</td>\n",
              "      <td>57.5</td>\n",
              "      <td>5.2</td>\n",
              "      <td>3.0</td>\n",
              "      <td>1.0</td>\n",
              "      <td>4.0</td>\n",
              "      <td>10.0</td>\n",
              "      <td>15.0</td>\n",
              "      <td>1.7</td>\n",
              "      <td>17.5</td>\n",
              "      <td>4.4</td>\n",
              "      <td>12.0</td>\n",
              "      <td>3.6</td>\n",
              "      <td>10.0</td>\n",
              "      <td>0.6</td>\n",
              "      <td>46.0</td>\n",
              "      <td>0.2</td>\n",
              "      <td>52.0</td>\n",
              "    </tr>\n",
              "    <tr>\n",
              "      <th>11</th>\n",
              "      <td>24-25</td>\n",
              "      <td>4591</td>\n",
              "      <td>83.1</td>\n",
              "      <td>52.0</td>\n",
              "      <td>24.9</td>\n",
              "      <td>60.0</td>\n",
              "      <td>4.0</td>\n",
              "      <td>6.0</td>\n",
              "      <td>0.5</td>\n",
              "      <td>6.0</td>\n",
              "      <td>0.7</td>\n",
              "      <td>88.0</td>\n",
              "      <td>4.5</td>\n",
              "      <td>2.0</td>\n",
              "      <td>0.8</td>\n",
              "      <td>2.0</td>\n",
              "      <td>9.0</td>\n",
              "      <td>15.0</td>\n",
              "      <td>1.3</td>\n",
              "      <td>20.0</td>\n",
              "      <td>4.3</td>\n",
              "      <td>10.0</td>\n",
              "      <td>2.6</td>\n",
              "      <td>10.0</td>\n",
              "      <td>0.7</td>\n",
              "      <td>21.0</td>\n",
              "      <td>0.2</td>\n",
              "      <td>17.5</td>\n",
              "    </tr>\n",
              "    <tr>\n",
              "      <th>12</th>\n",
              "      <td>26-29</td>\n",
              "      <td>2628</td>\n",
              "      <td>80.7</td>\n",
              "      <td>52.0</td>\n",
              "      <td>20.8</td>\n",
              "      <td>52.0</td>\n",
              "      <td>3.2</td>\n",
              "      <td>5.0</td>\n",
              "      <td>0.4</td>\n",
              "      <td>6.0</td>\n",
              "      <td>0.6</td>\n",
              "      <td>50.0</td>\n",
              "      <td>3.2</td>\n",
              "      <td>3.0</td>\n",
              "      <td>0.6</td>\n",
              "      <td>4.0</td>\n",
              "      <td>8.3</td>\n",
              "      <td>13.0</td>\n",
              "      <td>1.2</td>\n",
              "      <td>13.5</td>\n",
              "      <td>4.2</td>\n",
              "      <td>10.0</td>\n",
              "      <td>2.3</td>\n",
              "      <td>7.0</td>\n",
              "      <td>0.6</td>\n",
              "      <td>30.0</td>\n",
              "      <td>0.4</td>\n",
              "      <td>4.0</td>\n",
              "    </tr>\n",
              "    <tr>\n",
              "      <th>13</th>\n",
              "      <td>30-34</td>\n",
              "      <td>2864</td>\n",
              "      <td>77.5</td>\n",
              "      <td>52.0</td>\n",
              "      <td>16.4</td>\n",
              "      <td>72.0</td>\n",
              "      <td>2.1</td>\n",
              "      <td>8.0</td>\n",
              "      <td>0.5</td>\n",
              "      <td>15.0</td>\n",
              "      <td>0.4</td>\n",
              "      <td>66.0</td>\n",
              "      <td>1.8</td>\n",
              "      <td>2.0</td>\n",
              "      <td>0.4</td>\n",
              "      <td>3.5</td>\n",
              "      <td>5.9</td>\n",
              "      <td>22.0</td>\n",
              "      <td>0.9</td>\n",
              "      <td>46.0</td>\n",
              "      <td>3.6</td>\n",
              "      <td>8.0</td>\n",
              "      <td>1.4</td>\n",
              "      <td>12.0</td>\n",
              "      <td>0.4</td>\n",
              "      <td>54.0</td>\n",
              "      <td>0.4</td>\n",
              "      <td>10.0</td>\n",
              "    </tr>\n",
              "    <tr>\n",
              "      <th>14</th>\n",
              "      <td>35-49</td>\n",
              "      <td>7391</td>\n",
              "      <td>75.0</td>\n",
              "      <td>52.0</td>\n",
              "      <td>10.4</td>\n",
              "      <td>48.0</td>\n",
              "      <td>1.5</td>\n",
              "      <td>15.0</td>\n",
              "      <td>0.5</td>\n",
              "      <td>48.0</td>\n",
              "      <td>0.1</td>\n",
              "      <td>280.0</td>\n",
              "      <td>0.6</td>\n",
              "      <td>3.0</td>\n",
              "      <td>0.3</td>\n",
              "      <td>10.0</td>\n",
              "      <td>4.2</td>\n",
              "      <td>12.0</td>\n",
              "      <td>0.3</td>\n",
              "      <td>12.0</td>\n",
              "      <td>1.9</td>\n",
              "      <td>6.0</td>\n",
              "      <td>0.6</td>\n",
              "      <td>24.0</td>\n",
              "      <td>0.2</td>\n",
              "      <td>104.0</td>\n",
              "      <td>0.3</td>\n",
              "      <td>10.0</td>\n",
              "    </tr>\n",
              "    <tr>\n",
              "      <th>15</th>\n",
              "      <td>50-64</td>\n",
              "      <td>3923</td>\n",
              "      <td>67.2</td>\n",
              "      <td>52.0</td>\n",
              "      <td>7.3</td>\n",
              "      <td>52.0</td>\n",
              "      <td>0.9</td>\n",
              "      <td>36.0</td>\n",
              "      <td>0.4</td>\n",
              "      <td>62.0</td>\n",
              "      <td>0.1</td>\n",
              "      <td>41.0</td>\n",
              "      <td>0.3</td>\n",
              "      <td>44.0</td>\n",
              "      <td>0.2</td>\n",
              "      <td>13.5</td>\n",
              "      <td>2.5</td>\n",
              "      <td>12.0</td>\n",
              "      <td>0.4</td>\n",
              "      <td>5.0</td>\n",
              "      <td>1.4</td>\n",
              "      <td>10.0</td>\n",
              "      <td>0.3</td>\n",
              "      <td>24.0</td>\n",
              "      <td>0.2</td>\n",
              "      <td>30.0</td>\n",
              "      <td>0.2</td>\n",
              "      <td>104.0</td>\n",
              "    </tr>\n",
              "    <tr>\n",
              "      <th>16</th>\n",
              "      <td>65+</td>\n",
              "      <td>2448</td>\n",
              "      <td>49.3</td>\n",
              "      <td>52.0</td>\n",
              "      <td>1.2</td>\n",
              "      <td>36.0</td>\n",
              "      <td>0.0</td>\n",
              "      <td>-</td>\n",
              "      <td>0.0</td>\n",
              "      <td>-</td>\n",
              "      <td>0.0</td>\n",
              "      <td>120.0</td>\n",
              "      <td>0.1</td>\n",
              "      <td>2.0</td>\n",
              "      <td>0.0</td>\n",
              "      <td>-</td>\n",
              "      <td>0.6</td>\n",
              "      <td>24.0</td>\n",
              "      <td>0.0</td>\n",
              "      <td>-</td>\n",
              "      <td>0.2</td>\n",
              "      <td>5.0</td>\n",
              "      <td>0.0</td>\n",
              "      <td>364.0</td>\n",
              "      <td>0.0</td>\n",
              "      <td>-</td>\n",
              "      <td>0.0</td>\n",
              "      <td>15.0</td>\n",
              "    </tr>\n",
              "  </tbody>\n",
              "</table>\n",
              "</div>"
            ],
            "text/plain": [
              "      age     n  alcohol-use  ...  meth-frequency  sedative-use  sedative-frequency\n",
              "0      12  2798          3.9  ...               -           0.2                13.0\n",
              "1      13  2757          8.5  ...             5.0           0.1                19.0\n",
              "2      14  2792         18.1  ...            24.0           0.2                16.5\n",
              "3      15  2956         29.2  ...            10.5           0.4                30.0\n",
              "4      16  3058         40.1  ...            36.0           0.2                 3.0\n",
              "5      17  3038         49.3  ...            48.0           0.5                 6.5\n",
              "6      18  2469         58.7  ...            12.0           0.4                10.0\n",
              "7      19  2223         64.6  ...           105.0           0.3                 6.0\n",
              "8      20  2271         69.7  ...            12.0           0.5                 4.0\n",
              "9      21  2354         83.2  ...             2.0           0.3                 9.0\n",
              "10  22-23  4707         84.2  ...            46.0           0.2                52.0\n",
              "11  24-25  4591         83.1  ...            21.0           0.2                17.5\n",
              "12  26-29  2628         80.7  ...            30.0           0.4                 4.0\n",
              "13  30-34  2864         77.5  ...            54.0           0.4                10.0\n",
              "14  35-49  7391         75.0  ...           104.0           0.3                10.0\n",
              "15  50-64  3923         67.2  ...            30.0           0.2               104.0\n",
              "16    65+  2448         49.3  ...               -           0.0                15.0\n",
              "\n",
              "[17 rows x 28 columns]"
            ]
          },
          "metadata": {
            "tags": []
          },
          "execution_count": 9
        }
      ]
    },
    {
      "cell_type": "code",
      "metadata": {
        "id": "b9CO9FITHRzF",
        "colab_type": "code",
        "outputId": "4cf5c24c-be58-44cb-bba7-307a2f806ef4",
        "colab": {
          "base_uri": "https://localhost:8080/",
          "height": 151
        }
      },
      "source": [
        "#having issues remembering how to drop rows more efficiently\n",
        "drug_use = df.drop([0,1,2,3,4,5,6,7,8,9,10,11,12,13,14,16])\n",
        "drug_use"
      ],
      "execution_count": 10,
      "outputs": [
        {
          "output_type": "execute_result",
          "data": {
            "text/html": [
              "<div>\n",
              "<style scoped>\n",
              "    .dataframe tbody tr th:only-of-type {\n",
              "        vertical-align: middle;\n",
              "    }\n",
              "\n",
              "    .dataframe tbody tr th {\n",
              "        vertical-align: top;\n",
              "    }\n",
              "\n",
              "    .dataframe thead th {\n",
              "        text-align: right;\n",
              "    }\n",
              "</style>\n",
              "<table border=\"1\" class=\"dataframe\">\n",
              "  <thead>\n",
              "    <tr style=\"text-align: right;\">\n",
              "      <th></th>\n",
              "      <th>age</th>\n",
              "      <th>n</th>\n",
              "      <th>alcohol-use</th>\n",
              "      <th>alcohol-frequency</th>\n",
              "      <th>marijuana-use</th>\n",
              "      <th>marijuana-frequency</th>\n",
              "      <th>cocaine-use</th>\n",
              "      <th>cocaine-frequency</th>\n",
              "      <th>crack-use</th>\n",
              "      <th>crack-frequency</th>\n",
              "      <th>heroin-use</th>\n",
              "      <th>heroin-frequency</th>\n",
              "      <th>hallucinogen-use</th>\n",
              "      <th>hallucinogen-frequency</th>\n",
              "      <th>inhalant-use</th>\n",
              "      <th>inhalant-frequency</th>\n",
              "      <th>pain-releiver-use</th>\n",
              "      <th>pain-releiver-frequency</th>\n",
              "      <th>oxycontin-use</th>\n",
              "      <th>oxycontin-frequency</th>\n",
              "      <th>tranquilizer-use</th>\n",
              "      <th>tranquilizer-frequency</th>\n",
              "      <th>stimulant-use</th>\n",
              "      <th>stimulant-frequency</th>\n",
              "      <th>meth-use</th>\n",
              "      <th>meth-frequency</th>\n",
              "      <th>sedative-use</th>\n",
              "      <th>sedative-frequency</th>\n",
              "    </tr>\n",
              "  </thead>\n",
              "  <tbody>\n",
              "    <tr>\n",
              "      <th>15</th>\n",
              "      <td>50-64</td>\n",
              "      <td>3923</td>\n",
              "      <td>67.2</td>\n",
              "      <td>52.0</td>\n",
              "      <td>7.3</td>\n",
              "      <td>52.0</td>\n",
              "      <td>0.9</td>\n",
              "      <td>36.0</td>\n",
              "      <td>0.4</td>\n",
              "      <td>62.0</td>\n",
              "      <td>0.1</td>\n",
              "      <td>41.0</td>\n",
              "      <td>0.3</td>\n",
              "      <td>44.0</td>\n",
              "      <td>0.2</td>\n",
              "      <td>13.5</td>\n",
              "      <td>2.5</td>\n",
              "      <td>12.0</td>\n",
              "      <td>0.4</td>\n",
              "      <td>5.0</td>\n",
              "      <td>1.4</td>\n",
              "      <td>10.0</td>\n",
              "      <td>0.3</td>\n",
              "      <td>24.0</td>\n",
              "      <td>0.2</td>\n",
              "      <td>30.0</td>\n",
              "      <td>0.2</td>\n",
              "      <td>104.0</td>\n",
              "    </tr>\n",
              "  </tbody>\n",
              "</table>\n",
              "</div>"
            ],
            "text/plain": [
              "      age     n  alcohol-use  ...  meth-frequency  sedative-use  sedative-frequency\n",
              "15  50-64  3923         67.2  ...            30.0           0.2               104.0\n",
              "\n",
              "[1 rows x 28 columns]"
            ]
          },
          "metadata": {
            "tags": []
          },
          "execution_count": 10
        }
      ]
    },
    {
      "cell_type": "code",
      "metadata": {
        "id": "Qdd3TUsXVk2Y",
        "colab_type": "code",
        "outputId": "c550c14a-fbf6-49e4-bcf4-60d433ab163d",
        "colab": {
          "base_uri": "https://localhost:8080/",
          "height": 370
        }
      },
      "source": [
        "drug_use.plot.bar()\n",
        "plt.show()"
      ],
      "execution_count": 11,
      "outputs": [
        {
          "output_type": "display_data",
          "data": {
            "image/png": "[encoded data removed]",
            "text/plain": [
              "<Figure size 432x288 with 1 Axes>"
            ]
          },
          "metadata": {
            "tags": [],
            "needs_background": "light"
          }
        }
      ]
    },
    {
      "cell_type": "code",
      "metadata": {
        "id": "VFv-keKqVjjj",
        "colab_type": "code",
        "outputId": "208fd777-2fdb-4de2-92cd-0f627b8d7fba",
        "colab": {
          "base_uri": "https://localhost:8080/",
          "height": 295
        }
      },
      "source": [
        "#Trying to creating the graph directly from the data is giving me more issues than I think creating a fresh one\n",
        "#I would need to do get rid of the legend, make the bar graph horizontal, change color, axis, add labels, other formatting...\n",
        "#to even get close to the fivethirtyeight visual\n",
        " \n",
        "display(drugs)"
      ],
      "execution_count": 12,
      "outputs": [
        {
          "output_type": "display_data",
          "data": {
            "text/html": [
              "<img src=\"https://fivethirtyeight.com/wp-content/uploads/2015/04/barry-jester-datalab-boomersdruguse-actual.png?w=575\" width=\"400\"/>"
            ],
            "text/plain": [
              "<IPython.core.display.Image object>"
            ]
          },
          "metadata": {
            "tags": []
          }
        }
      ]
    },
    {
      "cell_type": "code",
      "metadata": {
        "id": "6IhMpQDN5cDe",
        "colab_type": "code",
        "colab": {}
      },
      "source": [
        ""
      ],
      "execution_count": 0,
      "outputs": []
    },
    {
      "cell_type": "code",
      "metadata": {
        "id": "OdcGZjlO-lWh",
        "colab_type": "code",
        "colab": {}
      },
      "source": [
        "#code that last ran successfully after i added or changed something \n",
        "#i learned to do this after having to start over from scratch\n",
        "\n",
        "#x = ['Heroin', 'Meth', 'Inhalant', 'Sedative', 'Hallucinogin', 'Stimulant', \n",
        "     #'OxyContin', 'Crack', 'Cocaine', 'Tranquilizer', 'Pain Reliever', \n",
        "     #'Marijuana']\n",
        " \n",
        "#y = ['0.05', '0.15', '0.15', '0.23', '0.25', '0.28', '0.36', '0.36', '0.87', \n",
        "     '1.43', '2.52', '7.29%']\n",
        "\n",
        "#plt.style.use('fivethirtyeight')\n",
        "\n",
        "#fig, ax = plt.subplots()\n",
        "\n",
        "#fig.patch.set_facecolor('white')\n",
        "\n",
        "# White background\n",
        "#ax.set_facecolor('white')\n",
        "\n",
        "# put bars horizontal\n",
        "#width =.6\n",
        "#ax.barh(x, y, width, color='#FF2600')\n",
        "\n",
        "#plt.show()"
      ],
      "execution_count": 0,
      "outputs": []
    },
    {
      "cell_type": "code",
      "metadata": {
        "id": "XFyBNdwUuTSP",
        "colab_type": "code",
        "colab": {
          "base_uri": "https://localhost:8080/",
          "height": 282
        },
        "outputId": "18a88963-bf4d-41a3-8606-304c1014b74f"
      },
      "source": [
        "#baby steps\n",
        "\n",
        "x = ['Heroin', 'Meth', 'Inhalant', 'Sedative', 'Hallucinogin', 'Stimulant', \n",
        "     'OxyContin', 'Crack', 'Cocaine', 'Tranquilizer', 'Pain Reliever', \n",
        "     'Marijuana']\n",
        " \n",
        "y = ['0.05', '0.15', '0.15', '0.23', '0.25', '0.28', '0.36', '0.36', '0.87', \n",
        "     '1.43', '2.52', '7.29%']\n",
        "\n",
        "plt.style.use('fivethirtyeight')\n",
        "\n",
        "fig, ax = plt.subplots()\n",
        "\n",
        "# White background\n",
        "ax.set_facecolor('white')\n",
        "\n",
        "#Title\n",
        "\n",
        "\n",
        "# put bars horizontal and specify width and color\n",
        "width =.6\n",
        "ax.barh(x, y, width, color='#FF2600')\n",
        "\n",
        "plt.show()"
      ],
      "execution_count": 17,
      "outputs": [
        {
          "output_type": "display_data",
          "data": {
            "image/png": "[encoded data removed]",
            "text/plain": [
              "<Figure size 432x288 with 1 Axes>"
            ]
          },
          "metadata": {
            "tags": []
          }
        }
      ]
    },
    {
      "cell_type": "code",
      "metadata": {
        "id": "qYQajyGu5gji",
        "colab_type": "code",
        "colab": {
          "base_uri": "https://localhost:8080/",
          "height": 295
        },
        "outputId": "1bc7ae0e-4842-4619-91eb-6ed58220e9ae"
      },
      "source": [
        "display(drugs)"
      ],
      "execution_count": 14,
      "outputs": [
        {
          "output_type": "display_data",
          "data": {
            "text/html": [
              "<img src=\"https://fivethirtyeight.com/wp-content/uploads/2015/04/barry-jester-datalab-boomersdruguse-actual.png?w=575\" width=\"400\"/>"
            ],
            "text/plain": [
              "<IPython.core.display.Image object>"
            ]
          },
          "metadata": {
            "tags": []
          }
        }
      ]
    },
    {
      "cell_type": "markdown",
      "metadata": {
        "id": "0wSrBzmJyWaV",
        "colab_type": "text"
      },
      "source": [
        "# STRETCH OPTIONS\n",
        "\n",
        "### 1) Reproduce one of the following using the matplotlib or seaborn libraries:\n",
        "\n",
        "- [thanksgiving-2015](https://fivethirtyeight.com/features/heres-what-your-part-of-america-eats-on-thanksgiving/) \n",
        "- [candy-power-ranking](https://fivethirtyeight.com/features/the-ultimate-halloween-candy-power-ranking/) \n",
        "- or another example of your choice!\n",
        "\n",
        "### 2) Make more charts!\n",
        "\n",
        "Choose a chart you want to make, from [Visual Vocabulary - Vega Edition](http://ft.com/vocabulary).\n",
        "\n",
        "Find the chart in an example gallery of a Python data visualization library:\n",
        "- [Seaborn](http://seaborn.pydata.org/examples/index.html)\n",
        "- [Altair](https://altair-viz.github.io/gallery/index.html)\n",
        "- [Matplotlib](https://matplotlib.org/gallery.html)\n",
        "- [Pandas](https://pandas.pydata.org/pandas-docs/stable/visualization.html)\n",
        "\n",
        "Reproduce the chart. [Optionally, try the \"Ben Franklin Method.\"](https://docs.google.com/document/d/1ubOw9B3Hfip27hF2ZFnW3a3z9xAgrUDRReOEo-FHCVs/edit) If you want, experiment and make changes.\n",
        "\n",
        "Take notes. Consider sharing your work with your cohort!"
      ]
    },
    {
      "cell_type": "code",
      "metadata": {
        "id": "dRJkKftiy5BJ",
        "colab_type": "code",
        "colab": {}
      },
      "source": [
        "# More Work Here"
      ],
      "execution_count": 0,
      "outputs": []
    }
  ]
}